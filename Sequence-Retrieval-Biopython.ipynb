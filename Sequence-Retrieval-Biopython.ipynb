{
 "cells": [
  {
   "cell_type": "markdown",
   "id": "e921117b",
   "metadata": {},
   "source": [
    "# Sequence Retrieval with Biopython"
   ]
  },
  {
   "cell_type": "code",
   "execution_count": 18,
   "id": "0da40235",
   "metadata": {},
   "outputs": [],
   "source": [
    "from Bio import Entrez, SeqIO, Medline"
   ]
  },
  {
   "cell_type": "code",
   "execution_count": 19,
   "id": "e88756e8",
   "metadata": {},
   "outputs": [],
   "source": [
    "Entrez.email = 'user@gmail.com' # put your email here"
   ]
  },
  {
   "cell_type": "code",
   "execution_count": 20,
   "id": "60559b2c",
   "metadata": {},
   "outputs": [
    {
     "name": "stdout",
     "output_type": "stream",
     "text": [
      "{'DbList': ['pubmed', 'protein', 'nuccore', 'ipg', 'nucleotide', 'structure', 'genome', 'annotinfo', 'assembly', 'bioproject', 'biosample', 'blastdbinfo', 'books', 'cdd', 'clinvar', 'gap', 'gapplus', 'grasp', 'dbvar', 'gene', 'gds', 'geoprofiles', 'homologene', 'medgen', 'mesh', 'nlmcatalog', 'omim', 'orgtrack', 'pmc', 'popset', 'proteinclusters', 'pcassay', 'protfam', 'pccompound', 'pcsubstance', 'seqannot', 'snp', 'sra', 'taxonomy', 'biocollections', 'gtr']}\n"
     ]
    }
   ],
   "source": [
    "# Check all available databases\n",
    "handle0 = Entrez.einfo()  # Create a handle object for the Entrez API\n",
    "rec = Entrez.read(handle0)   # Read the data returned by the API into a python object, typically a dictionary.\n",
    "print(rec)"
   ]
  },
  {
   "cell_type": "code",
   "execution_count": 21,
   "id": "fe0abbf1",
   "metadata": {},
   "outputs": [
    {
     "data": {
      "text/plain": [
       "{'Count': '5', 'RetMax': '5', 'RetStart': '0', 'IdList': ['1063742237', '240256493', '332002898', '1418336', '1418324'], 'TranslationSet': [{'From': '\"Arabidopsis thaliana\"[Organism]', 'To': '\"Arabidopsis thaliana\"[Organism]'}], 'TranslationStack': [{'Term': 'ZAT12[Gene Name]', 'Field': 'Gene Name', 'Count': '27', 'Explode': 'N'}, {'Term': '\"Arabidopsis thaliana\"[Organism]', 'Field': 'Organism', 'Count': '2700832', 'Explode': 'Y'}, 'AND'], 'QueryTranslation': 'ZAT12[Gene Name] AND \"Arabidopsis thaliana\"[Organism]'}"
      ]
     },
     "execution_count": 21,
     "metadata": {},
     "output_type": "execute_result"
    }
   ],
   "source": [
    "# Search ZAT12 gene in Arabidopsis thaliana on the nucleotide database\n",
    "handle = Entrez.esearch(db=\"nucleotide\", term='ZAT12[Gene Name] AND \"Arabidopsis thaliana\"[Organism]')\n",
    "rec_list = Entrez.read(handle)\n",
    "rec_list"
   ]
  },
  {
   "cell_type": "code",
   "execution_count": 37,
   "id": "4c4b990e",
   "metadata": {},
   "outputs": [],
   "source": [
    "# 'RetMax' specifies the maximum number of records returned from a search, which is limited to 20. \n",
    "# 'Count' represents the total number of records that match a given criteria.\n",
    "# If 'Count' > 'RetMax'(20), we have to repeat the query with an increased maximum limit. \n",
    "# So, we make retmax equal to 'Count', thus to retrieve all matching records.\n",
    "if rec_list['RetMax'] < rec_list['Count']:\n",
    "    handle = Entrez.esearch(db=\"nucleotide\", term='CRT[Gene Name] AND \"Plasmodium falciparum\"[Organism]',\n",
    "                   retmax=rec_list['Count'])\n",
    "    rec_list = Entrez.read(handle)"
   ]
  },
  {
   "cell_type": "code",
   "execution_count": 38,
   "id": "a9b359f4",
   "metadata": {},
   "outputs": [
    {
     "name": "stdout",
     "output_type": "stream",
     "text": [
      "{'Count': '5', 'RetMax': '5', 'RetStart': '0', 'IdList': ['1063742237', '240256493', '332002898', '1418336', '1418324'], 'TranslationSet': [{'From': '\"Arabidopsis thaliana\"[Organism]', 'To': '\"Arabidopsis thaliana\"[Organism]'}], 'TranslationStack': [{'Term': 'ZAT12[Gene Name]', 'Field': 'Gene Name', 'Count': '27', 'Explode': 'N'}, {'Term': '\"Arabidopsis thaliana\"[Organism]', 'Field': 'Organism', 'Count': '2700832', 'Explode': 'Y'}, 'AND'], 'QueryTranslation': 'ZAT12[Gene Name] AND \"Arabidopsis thaliana\"[Organism]'}\n"
     ]
    }
   ],
   "source": [
    "print(rec_list)"
   ]
  },
  {
   "cell_type": "code",
   "execution_count": 39,
   "id": "02b6a8bd",
   "metadata": {},
   "outputs": [
    {
     "data": {
      "text/plain": [
       "['1063742237', '240256493', '332002898', '1418336', '1418324']"
      ]
     },
     "execution_count": 39,
     "metadata": {},
     "output_type": "execute_result"
    }
   ],
   "source": [
    "id_list = rec_list['IdList']\n",
    "id_list"
   ]
  },
  {
   "cell_type": "code",
   "execution_count": 40,
   "id": "280b5ccc",
   "metadata": {},
   "outputs": [],
   "source": [
    "# Retrieve records\n",
    "# download just a few at a time and stop when we have found the one that we need.\n",
    "# Use retmax to restrict how many data you would like to download. \n",
    "# Here we only have 5 records, which is a small number.\n",
    "hdl = Entrez.efetch(db='nucleotide', id=id_list, rettype='gb') # gb: GenBank format"
   ]
  },
  {
   "cell_type": "code",
   "execution_count": 41,
   "id": "a72e0c84",
   "metadata": {},
   "outputs": [],
   "source": [
    "# Parse the obtained GenBank-formatted data \n",
    "recs = list(SeqIO.parse(hdl, 'gb'))"
   ]
  },
  {
   "cell_type": "code",
   "execution_count": 42,
   "id": "d2f5e72e",
   "metadata": {},
   "outputs": [
    {
     "data": {
      "text/plain": [
       "[SeqRecord(seq=Seq('TTTACCCCTTATCTTTCCACGTATTTACGTTAATACCTACACTCTTCGCTGCCA...TAC'), id='NM_125374.3', name='NM_125374', description='Arabidopsis thaliana C2H2-type zinc finger family protein (RHL41), mRNA', dbxrefs=['BioProject:PRJNA116', 'BioSample:SAMN03081427']),\n",
       " SeqRecord(seq=Seq(None, length=26975502), id='NC_003076.8', name='NC_003076', description='Arabidopsis thaliana chromosome 5, complete sequence', dbxrefs=['BioProject:PRJNA116', 'BioSample:SAMN03081427', 'Assembly:GCF_000001735.4']),\n",
       " SeqRecord(seq=Seq('TATACCATGTACCCTCAACCTTAAAACCCTAAAACCTATACTATAAATCTTTAA...ATC'), id='CP002688.1', name='CP002688', description='Arabidopsis thaliana chromosome 5, partial sequence', dbxrefs=['BioProject:PRJNA10719', 'BioSample:SAMN03081427']),\n",
       " SeqRecord(seq=Seq('ACCAAACTCAAAAAACACAAACCACAAGAGGATCATTTCATTTTTTATTGTTTC...AAA'), id='X98673.1', name='X98673', description='A.thaliana mRNA for ZAT12 protein', dbxrefs=[]),\n",
       " SeqRecord(seq=Seq('AAGCTACGCGGTGTCGCAAATCGTGACCACATAACCCGTTTTTTCCTTCTTTTA...AAT'), id='X98674.1', name='X98674', description='A.thaliana zat12 gene', dbxrefs=[])]"
      ]
     },
     "execution_count": 42,
     "metadata": {},
     "output_type": "execute_result"
    }
   ],
   "source": [
    "recs"
   ]
  },
  {
   "cell_type": "code",
   "execution_count": 43,
   "id": "7ecdc98a",
   "metadata": {},
   "outputs": [
    {
     "name": "stdout",
     "output_type": "stream",
     "text": [
      "X98674\n",
      "A.thaliana zat12 gene\n"
     ]
    }
   ],
   "source": [
    "# Concentrate on a single record\n",
    "for rec in recs:\n",
    "    if rec.name == 'X98674':\n",
    "        break\n",
    "print(rec.name)\n",
    "print(rec.description)"
   ]
  },
  {
   "cell_type": "code",
   "execution_count": 30,
   "id": "a3dd28b3",
   "metadata": {},
   "outputs": [
    {
     "name": "stdout",
     "output_type": "stream",
     "text": [
      "source\n",
      "[0:1000](+)\n",
      "{'organism': ['Arabidopsis thaliana'], 'mol_type': ['genomic DNA'], 'db_xref': ['taxon:3702'], 'ecotype': ['Columbia']}\n",
      "gene\n",
      "[309:798](+)\n",
      "{'gene': ['Zat12']}\n",
      "CDS\n",
      "[309:798](+)\n",
      "{'gene': ['Zat12'], 'note': ['putative'], 'codon_start': ['1'], 'product': ['zinc finger protein'], 'protein_id': ['CAA67232.1'], 'db_xref': ['GOA:Q42410', 'InterPro:IPR007087', 'InterPro:IPR015880', 'UniProtKB/TrEMBL:Q42410'], 'translation': ['MVAISEIKSTVDVTAANCLMLLSRVGQENVDGGDQKRVFTCKTCLKQFHSFQALGGHRASHKKPNNDALSSGLMKKVKTSSHPCPICGVEFPMGQALGGHMRRHRNESGAAGGALVTRALLPEPTVTTLKKSSSGKRVACLDLSLGMVDNLNLKLELGRTVY']}\n"
     ]
    }
   ],
   "source": [
    "for feature in rec.features:\n",
    "    print(feature.type)\n",
    "    print(feature.location)\n",
    "    print(feature.qualifiers)"
   ]
  },
  {
   "cell_type": "code",
   "execution_count": 31,
   "id": "e5ecbce8",
   "metadata": {},
   "outputs": [
    {
     "name": "stdout",
     "output_type": "stream",
     "text": [
      "['__bool__', '__class__', '__contains__', '__delattr__', '__dict__', '__dir__', '__doc__', '__eq__', '__format__', '__ge__', '__getattribute__', '__gt__', '__hash__', '__init__', '__init_subclass__', '__iter__', '__le__', '__len__', '__lt__', '__module__', '__ne__', '__new__', '__reduce__', '__reduce_ex__', '__repr__', '__setattr__', '__sizeof__', '__str__', '__subclasshook__', '__weakref__', '_flip', '_get_location_operator', '_get_ref', '_get_ref_db', '_get_strand', '_set_location_operator', '_set_ref', '_set_ref_db', '_set_strand', '_shift', 'extract', 'id', 'location', 'location_operator', 'qualifiers', 'ref', 'ref_db', 'strand', 'translate', 'type']\n"
     ]
    }
   ],
   "source": [
    "print(dir(feature))"
   ]
  },
  {
   "cell_type": "code",
   "execution_count": 32,
   "id": "eac6bff2",
   "metadata": {},
   "outputs": [
    {
     "name": "stdout",
     "output_type": "stream",
     "text": [
      "not processed: \n",
      "type: source\n",
      "location: [0:1000](+)\n",
      "qualifiers:\n",
      "    Key: db_xref, Value: ['taxon:3702']\n",
      "    Key: ecotype, Value: ['Columbia']\n",
      "    Key: mol_type, Value: ['genomic DNA']\n",
      "    Key: organism, Value: ['Arabidopsis thaliana']\n",
      "\n",
      "['Zat12']\n",
      "not processed: \n",
      "type: CDS\n",
      "location: [309:798](+)\n",
      "qualifiers:\n",
      "    Key: codon_start, Value: ['1']\n",
      "    Key: db_xref, Value: ['GOA:Q42410', 'InterPro:IPR007087', 'InterPro:IPR015880', 'UniProtKB/TrEMBL:Q42410']\n",
      "    Key: gene, Value: ['Zat12']\n",
      "    Key: note, Value: ['putative']\n",
      "    Key: product, Value: ['zinc finger protein']\n",
      "    Key: protein_id, Value: ['CAA67232.1']\n",
      "    Key: translation, Value: ['MVAISEIKSTVDVTAANCLMLLSRVGQENVDGGDQKRVFTCKTCLKQFHSFQALGGHRASHKKPNNDALSSGLMKKVKTSSHPCPICGVEFPMGQALGGHMRRHRNESGAAGGALVTRALLPEPTVTTLKKSSSGKRVACLDLSLGMVDNLNLKLELGRTVY']\n",
      "\n"
     ]
    }
   ],
   "source": [
    "# Extract specific information from a sequence record\n",
    "for feature in rec.features:\n",
    "    if feature.type == 'gene':\n",
    "        print(feature.qualifiers['gene'])\n",
    "    elif feature.type == 'exon':\n",
    "        loc = feature.location\n",
    "        print('Exon', loc.start, loc.end, loc.strand)\n",
    "    else:\n",
    "        print('not processed: \\n%s' % feature)\n",
    "# qualifiers: additional information about the feature\n",
    "# \\n: new line\n",
    "# %s: placeholder for a string"
   ]
  },
  {
   "cell_type": "code",
   "execution_count": 33,
   "id": "a38fbdd4",
   "metadata": {},
   "outputs": [
    {
     "name": "stdout",
     "output_type": "stream",
     "text": [
      "molecule_type=DNA\n",
      "topology=linear\n",
      "data_file_division=PLN\n",
      "date=22-APR-1997\n",
      "accessions=['X98674']\n",
      "sequence_version=1\n",
      "keywords=['zat gene', 'zinc finger protein']\n",
      "source=Arabidopsis thaliana (thale cress)\n",
      "organism=Arabidopsis thaliana\n",
      "taxonomy=['Eukaryota', 'Viridiplantae', 'Streptophyta', 'Embryophyta', 'Tracheophyta', 'Spermatophyta', 'Magnoliopsida', 'eudicotyledons', 'Gunneridae', 'Pentapetalae', 'rosids', 'malvids', 'Brassicales', 'Brassicaceae', 'Camelineae', 'Arabidopsis']\n",
      "references=[Reference(title='Isolation and characterisation of a diverse family of Arabidopsis two and three-fingered C2H2 zinc finger protein genes and cDNAs', ...), Reference(title='Direct Submission', ...)]\n"
     ]
    }
   ],
   "source": [
    "# Get metadata associated with a sequence record, which is not related to the sequence position\n",
    "for name, value in rec.annotations.items():\n",
    "    print('%s=%s' % (name, value))\n",
    "\n",
    "# rec.annotations.items() returns a list of tuples, containing key-value pairs from the 'annotation' dictionary."
   ]
  },
  {
   "cell_type": "code",
   "execution_count": 34,
   "id": "ed0d8a7a",
   "metadata": {},
   "outputs": [
    {
     "name": "stdout",
     "output_type": "stream",
     "text": [
      "AAGCTACGCGGTGTCGCAAATCGTGACCACATAACCCGTTTTTTCCTTCTTTTACCCCTTATCTTTCCACGTATTTACGTTAATACCTACACTCTTCGCTGCCACTTCCTTACCCACCAAGTCACAAGGGTATATTCGTCACTTTCCACAAGTCTTTGGTCCACACAAACTCGGTATCTATATATAGTTCCCAAACGGACACGAACACATCATCACAACTACTATCACACCAAACTCAAAAAACACAAACCACAAGAGGATCATTTCATTTTTTATTGTTTCGTTTTAATCATCATCATCAGAAGAAAAATGGTTGCGATATCGGAGATCAAGTCGACGGTGGATGTCACGGCGGCGAATTGTTTGATGCTTTTATCTAGAGTTGGACAAGAAAACGTTGACGGTGGCGATCAAAAACGCGTTTTCACATGTAAAACGTGTTTGAAGCAGTTTCATTCGTTCCAAGCCTTAGGAGGTCACCGTGCGAGTCACAAGAAGCCTAACAACGACGCTTTGTCGTCTGGATTGATGAAGAAGGTGAAAACGTCGTCGCATCCTTGTCCCATATGTGGAGTGGAGTTTCCGATGGGACAAGCTTTGGGAGGACACATGAGGAGACACAGGAACGAGAGTGGGGCTGCTGGTGGCGCGTTGGTTACACGCGCTTTGTTGCCGGAGCCCACGGTGACTACGTTGAAGAAATCTAGCAGTGGGAAGAGAGTGGCTTGTTTGGATCTGAGTCTAGGGATGGTGGACAATTTGAATCTCAAGTTGGAGCTTGGAAGAACAGTTTATTGATTTTATTTATTTTCCTTAAATTTTCTGAATATATTTGTTTCTCTCATTCTTTGAATTTTTCTTAATATTCTAGATTATACATACATCCGCAGATTTAGGAAACTTTCATAGAGTGTAATCTTTTCTTTCTGTAAAAATATATTTTACTTGTAGCATTGGAGATTTGTTATGAGATTATCTTACTTAGCATTTAGTGAATAAT\n",
      "1000\n"
     ]
    }
   ],
   "source": [
    "print(rec.seq)\n",
    "print(len(rec.seq))"
   ]
  },
  {
   "cell_type": "code",
   "execution_count": 35,
   "id": "8e866c56",
   "metadata": {},
   "outputs": [
    {
     "name": "stdout",
     "output_type": "stream",
     "text": [
      "[Reference(title='Isolation and characterisation of a diverse family of Arabidopsis two and three-fingered C2H2 zinc finger protein genes and cDNAs', ...), Reference(title='Direct Submission', ...)]\n"
     ]
    }
   ],
   "source": [
    "refs = rec.annotations['references']\n",
    "print(refs)"
   ]
  },
  {
   "cell_type": "code",
   "execution_count": 36,
   "id": "103ed29f",
   "metadata": {},
   "outputs": [
    {
     "name": "stdout",
     "output_type": "stream",
     "text": [
      "9132053\n",
      "PMID: 9132053\n",
      "OWN: NLM\n",
      "STAT: MEDLINE\n",
      "DCOM: 19970428\n",
      "LR: 20190822\n",
      "IS: 0167-4412 (Print) 0167-4412 (Linking)\n",
      "VI: 33\n",
      "IP: 4\n",
      "DP: 1997 Mar\n",
      "TI: Isolation and characterisation of a diverse family of Arabidopsis two and three-fingered C2H2 zinc finger protein genes and cDNAs.\n",
      "PG: 615-24\n",
      "AB: In animal systems the C2H2 zinc finger protein (ZFP) gene family is the largest group of regulatory proteins and its members have a wide and important role in growth and development. It is likely that this family of ZFP transcription factors will also be important in plants. We have used a PCR approach employing highly degenerate oligonucleotide primers to isolate several Arabidopsis genomic and cDNA clones encoding potential ZFPs. In addition we have used the sequence information from these clones to identify two ESTs as members of this family. Five two-fingered and one three-fingered ZFPs have been identified. Outside of the zinc finger regions, there is considerable sequence diversity, including the sequence and length of the interfinger region; the expression pattern of each gene is different. This is the first report of the isolation of a three-fingered plant C2H2 ZFP gene and we discuss its possible evolutionary origin from two-fingered ZFP genes.\n",
      "FAU: ['Meissner, R', 'Michael, A J']\n",
      "AU: ['Meissner R', 'Michael AJ']\n",
      "AD: ['Department of Genetics and Microbiology, Institute of Food Research, Norwich Research Park, Colney, UK.']\n",
      "LA: ['eng']\n",
      "SI: ['GENBANK/X98669', 'GENBANK/X98670', 'GENBANK/X98671', 'GENBANK/X98672', 'GENBANK/X98673', 'GENBANK/X98674', 'GENBANK/X98675', 'GENBANK/X98676', 'GENBANK/X98677', 'GENBANK/X98678']\n",
      "PT: ['Comparative Study', 'Journal Article']\n",
      "PL: Netherlands\n",
      "TA: Plant Mol Biol\n",
      "JT: Plant molecular biology\n",
      "JID: 9106343\n",
      "RN: ['0 (DNA, Complementary)', '0 (DNA-Binding Proteins)', '0 (Transcription Factor TFIIIA)', '0 (Transcription Factors)']\n",
      "SB: IM\n",
      "MH: ['Amino Acid Sequence', 'Arabidopsis/*genetics', 'DNA, Complementary/genetics', 'DNA-Binding Proteins/*genetics', 'Gene Expression', '*Genes, Plant', 'Genomic Library', 'Molecular Sequence Data', '*Multigene Family', 'Open Reading Frames', 'Polymerase Chain Reaction', 'Sequence Analysis, DNA', 'Sequence Homology, Amino Acid', 'Transcription Factor TFIIIA', 'Transcription Factors/*genetics', '*Zinc Fingers']\n",
      "EDAT: 1997/03/01 00:00\n",
      "MHDA: 1997/03/01 00:01\n",
      "CRDT: ['1997/03/01 00:00']\n",
      "PHST: ['1997/03/01 00:00 [pubmed]', '1997/03/01 00:01 [medline]', '1997/03/01 00:00 [entrez]']\n",
      "AID: ['10.1023/a:1005746803089 [doi]']\n",
      "PST: ppublish\n",
      "SO: Plant Mol Biol. 1997 Mar;33(4):615-24. doi: 10.1023/a:1005746803089.\n"
     ]
    }
   ],
   "source": [
    "# Extract the information about references\n",
    "\n",
    "for ref in refs:\n",
    "    if ref.pubmed_id != '':\n",
    "        print(ref.pubmed_id)\n",
    "        handle = Entrez.efetch(db='pubmed', id=[ref.pubmed_id], rettype='medline', retmode='text')\n",
    "        records = Medline.parse(handle)\n",
    "        for med_rec in records:\n",
    "            for k, v in med_rec.items():\n",
    "                print('%s: %s' % (k, v))\n",
    "        "
   ]
  },
  {
   "cell_type": "code",
   "execution_count": null,
   "id": "5fc3e6bf",
   "metadata": {},
   "outputs": [],
   "source": []
  },
  {
   "cell_type": "code",
   "execution_count": null,
   "id": "86d16fcf",
   "metadata": {},
   "outputs": [],
   "source": []
  }
 ],
 "metadata": {
  "kernelspec": {
   "display_name": "Python 3 (ipykernel)",
   "language": "python",
   "name": "python3"
  },
  "language_info": {
   "codemirror_mode": {
    "name": "ipython",
    "version": 3
   },
   "file_extension": ".py",
   "mimetype": "text/x-python",
   "name": "python",
   "nbconvert_exporter": "python",
   "pygments_lexer": "ipython3",
   "version": "3.9.15"
  }
 },
 "nbformat": 4,
 "nbformat_minor": 5
}
